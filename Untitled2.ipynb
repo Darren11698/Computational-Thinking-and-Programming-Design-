{
  "nbformat": 4,
  "nbformat_minor": 0,
  "metadata": {
    "colab": {
      "name": "Untitled2.ipynb",
      "provenance": [],
      "collapsed_sections": [],
      "include_colab_link": true
    },
    "kernelspec": {
      "name": "python3",
      "display_name": "Python 3"
    }
  },
  "cells": [
    {
      "cell_type": "markdown",
      "metadata": {
        "id": "view-in-github",
        "colab_type": "text"
      },
      "source": [
        "<a href=\"https://colab.research.google.com/github/Darren11698/Computational-Thinking-and-Programming-Design-/blob/master/Untitled2.ipynb\" target=\"_parent\"><img src=\"https://colab.research.google.com/assets/colab-badge.svg\" alt=\"Open In Colab\"/></a>"
      ]
    },
    {
      "cell_type": "code",
      "metadata": {
        "id": "4HwS_PdLqPo5",
        "colab_type": "code",
        "outputId": "8513ad86-09c1-4267-b872-3e176403c5c1",
        "colab": {
          "base_uri": "https://localhost:8080/",
          "height": 34
        }
      },
      "source": [
        "x=5\n",
        "if x < 10:\n",
        "    print(\"x is less than 10\")"
      ],
      "execution_count": 0,
      "outputs": [
        {
          "output_type": "stream",
          "text": [
            "x is less than 10\n"
          ],
          "name": "stdout"
        }
      ]
    },
    {
      "cell_type": "code",
      "metadata": {
        "id": "wGdhesG3qXdo",
        "colab_type": "code",
        "outputId": "1a4a2cd3-167c-4269-f7c5-8dc4796b2d44",
        "colab": {
          "base_uri": "https://localhost:8080/",
          "height": 204
        }
      },
      "source": [
        "x=5#初始值\n",
        "while x<10:#判斷條件\n",
        "  print(\"x is less than 10\")\n",
        "  print(\" I am still here\")\n",
        "  x=x+1 #更新條件\n",
        "print(\"Finished\")"
      ],
      "execution_count": 0,
      "outputs": [
        {
          "output_type": "stream",
          "text": [
            "x is less than 10\n",
            " I am still here\n",
            "x is less than 10\n",
            " I am still here\n",
            "x is less than 10\n",
            " I am still here\n",
            "x is less than 10\n",
            " I am still here\n",
            "x is less than 10\n",
            " I am still here\n",
            "Finished\n"
          ],
          "name": "stdout"
        }
      ]
    },
    {
      "cell_type": "code",
      "metadata": {
        "id": "wz6wLQn9tXv2",
        "colab_type": "code",
        "outputId": "a7d2069c-9c1d-44da-a244-c739383591b3",
        "colab": {
          "base_uri": "https://localhost:8080/",
          "height": 102
        }
      },
      "source": [
        "x=1#初始值\n",
        "while x<5: #判斷條件\n",
        "  print(\"變數x是,x\")\n",
        "  x=x+1 #更新條件\n",
        "print(\"finished\")\n"
      ],
      "execution_count": 0,
      "outputs": [
        {
          "output_type": "stream",
          "text": [
            "變數x是,x\n",
            "變數x是,x\n",
            "變數x是,x\n",
            "變數x是,x\n",
            "finished\n"
          ],
          "name": "stdout"
        }
      ]
    },
    {
      "cell_type": "code",
      "metadata": {
        "id": "UvNUOmxat2yE",
        "colab_type": "code",
        "outputId": "7d90e22a-f1a5-414d-cd66-304be7f0d788",
        "colab": {
          "base_uri": "https://localhost:8080/",
          "height": 204
        }
      },
      "source": [
        "#印10次Hello\n",
        "\n",
        "\n",
        "x=0 #初始值\n",
        "while x < 10: #判斷條件\n",
        " x=x+1#更新條件\n",
        " left=10-x#更新條件\n",
        " print(\"This is,x\",\"times hello\",\"tou still have\",left,\"times\")\n",
        "print(\"finished\")"
      ],
      "execution_count": 0,
      "outputs": [
        {
          "output_type": "stream",
          "text": [
            "This is,x times hello tou still have 9 times\n",
            "This is,x times hello tou still have 8 times\n",
            "This is,x times hello tou still have 7 times\n",
            "This is,x times hello tou still have 6 times\n",
            "This is,x times hello tou still have 5 times\n",
            "This is,x times hello tou still have 4 times\n",
            "This is,x times hello tou still have 3 times\n",
            "This is,x times hello tou still have 2 times\n",
            "This is,x times hello tou still have 1 times\n",
            "This is,x times hello tou still have 0 times\n",
            "finished\n"
          ],
          "name": "stdout"
        }
      ]
    },
    {
      "cell_type": "code",
      "metadata": {
        "id": "vB2jUZIJvA2n",
        "colab_type": "code",
        "outputId": "f567d0b8-5c3c-4d54-8671-06a41c09e70c",
        "colab": {
          "base_uri": "https://localhost:8080/",
          "height": 204
        }
      },
      "source": [
        "#1到18之和\n",
        "\n",
        "\n",
        "x=0 #初始值\n",
        "sum=0#初始值\n",
        "while x < 10: #判斷條件\n",
        " x=x+1#更新條件\n",
        " sum =sum+x#更新條件\n",
        " print(\"Sum is\",sum)\n",
        "print(\"finished\")"
      ],
      "execution_count": 0,
      "outputs": [
        {
          "output_type": "stream",
          "text": [
            "Sum is 1\n",
            "Sum is 3\n",
            "Sum is 6\n",
            "Sum is 10\n",
            "Sum is 15\n",
            "Sum is 21\n",
            "Sum is 28\n",
            "Sum is 36\n",
            "Sum is 45\n",
            "Sum is 55\n",
            "finished\n"
          ],
          "name": "stdout"
        }
      ]
    },
    {
      "cell_type": "code",
      "metadata": {
        "id": "pbZe8HiYwTFt",
        "colab_type": "code",
        "outputId": "a1f59cb3-5d84-4360-f67d-c2ba76418b84",
        "colab": {
          "base_uri": "https://localhost:8080/",
          "height": 204
        }
      },
      "source": [
        "#1到x之和大於50\n",
        "\n",
        "\n",
        "x=0 #初始值\n",
        "sum=0#初始值\n",
        "\n",
        "while sum <= 10: #判斷條件\n",
        " x=x+1#更新條件\n",
        " sum =sum+x#更新條件\n",
        " print(\"X is\",x)\n",
        " print(\"Sum is\",sum)\n",
        "print(\"finished\")\n"
      ],
      "execution_count": 0,
      "outputs": [
        {
          "output_type": "stream",
          "text": [
            "X is 1\n",
            "Sum is 1\n",
            "X is 2\n",
            "Sum is 3\n",
            "X is 3\n",
            "Sum is 6\n",
            "X is 4\n",
            "Sum is 10\n",
            "X is 5\n",
            "Sum is 15\n",
            "finished\n"
          ],
          "name": "stdout"
        }
      ]
    },
    {
      "cell_type": "code",
      "metadata": {
        "id": "NOsmt3a3yOM9",
        "colab_type": "code",
        "outputId": "77580607-39cf-4ca3-e732-925c802533db",
        "colab": {
          "base_uri": "https://localhost:8080/",
          "height": 34
        }
      },
      "source": [
        "#1到9奇數之和\n",
        "\n",
        "sum=0#初始值\n",
        "x = 1 # 初始條件\n",
        "while x < 11: # 判斷條件\n",
        "     sum=sum+x # 更新條件\n",
        "     x=x+2#更新條件\n",
        "print(\"1+3+5+7+9=\",sum)# 最後結果"
      ],
      "execution_count": 0,
      "outputs": [
        {
          "output_type": "stream",
          "text": [
            "1+3+5+7+9= 25\n"
          ],
          "name": "stdout"
        }
      ]
    },
    {
      "cell_type": "code",
      "metadata": {
        "id": "MDzisTV30Kx7",
        "colab_type": "code",
        "colab": {
          "base_uri": "https://localhost:8080/",
          "height": 34
        },
        "outputId": "71499a41-f717-40ae-e259-e7e63bab1051"
      },
      "source": [
        "#求大於1000最小平方和的x\n",
        "sum=0#初始值\n",
        "i = 1 # 初始條件\n",
        "while sum <= 1000: \n",
        "     i+=1\n",
        "     sum+=i*i\n",
        "print(\"最小的值=\",i )\n"
      ],
      "execution_count": 35,
      "outputs": [
        {
          "output_type": "stream",
          "text": [
            "最小的值= 14\n"
          ],
          "name": "stdout"
        }
      ]
    }
  ]
}